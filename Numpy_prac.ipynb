{
 "cells": [
  {
   "cell_type": "markdown",
   "id": "8890a76e",
   "metadata": {},
   "source": [
    "# 1. Compare [python list ] vs [numpy array]"
   ]
  },
  {
   "cell_type": "code",
   "execution_count": 6,
   "id": "a39207cd",
   "metadata": {},
   "outputs": [
    {
     "name": "stdout",
     "output_type": "stream",
     "text": [
      "[10, 20, 30, 70, 80, 90]\n"
     ]
    }
   ],
   "source": [
    "#python list\n",
    "\n",
    "mid_scores = [10, 20, 30]\n",
    "final_scores = [70, 80, 90]\n",
    "\n",
    "total = mid_scores + final_scores\n",
    "print(total)"
   ]
  },
  {
   "cell_type": "code",
   "execution_count": 8,
   "id": "da3e1c9f",
   "metadata": {},
   "outputs": [
    {
     "name": "stdout",
     "output_type": "stream",
     "text": [
      "[ 80 100 120]\n"
     ]
    }
   ],
   "source": [
    "#numpy array\n",
    "\n",
    "import numpy as np\n",
    "\n",
    "mid_scores = np.array([10, 20, 30])\n",
    "final_scores = np.array([70, 80, 90])\n",
    "\n",
    "total = mid_scores + final_scores\n",
    "print(total)"
   ]
  },
  {
   "cell_type": "markdown",
   "id": "3984f60d",
   "metadata": {},
   "source": [
    "---\n",
    "\n",
    "# 2. Calc BMI\n"
   ]
  },
  {
   "cell_type": "code",
   "execution_count": 9,
   "id": "aa2c2047",
   "metadata": {},
   "outputs": [
    {
     "name": "stdout",
     "output_type": "stream",
     "text": [
      "[25.68007405 23.88946281 20.65754    27.45982194 25.53544639 22.72043837]\n"
     ]
    }
   ],
   "source": [
    "heights = [1.83, 1.76, 1.69, 1.86, 1.77, 1.73]\n",
    "weights = [86, 74, 59, 95, 80, 68]\n",
    "\n",
    "np_heights = np.array(heights)\n",
    "np_weights = np.array(weights)\n",
    "\n",
    "bmi = np_weights/(np_heights**2)\n",
    "print(bmi)"
   ]
  },
  {
   "cell_type": "markdown",
   "id": "1a42d4bd",
   "metadata": {},
   "source": [
    "---\n",
    "# 3. Indexing and Slicing"
   ]
  },
  {
   "cell_type": "code",
   "execution_count": 11,
   "id": "d0bbd144",
   "metadata": {},
   "outputs": [
    {
     "name": "stdout",
     "output_type": "stream",
     "text": [
      "93\n",
      "[72, 93]\n"
     ]
    }
   ],
   "source": [
    "#Basic Indexing & Slicing\n",
    "\n",
    "grades = [88, 72, 93, 94]\n",
    "\n",
    "print(grades[2])\n",
    "print(grades[1:3])"
   ]
  },
  {
   "cell_type": "code",
   "execution_count": 13,
   "id": "b2c2a37f",
   "metadata": {},
   "outputs": [
    {
     "name": "stdout",
     "output_type": "stream",
     "text": [
      "[False False  True  True  True]\n",
      "[25 30 28]\n"
     ]
    }
   ],
   "source": [
    "#Logical indexing\n",
    "\n",
    "ages = np.array([18,19,25,30,28])\n",
    "y = ages > 20\n",
    "print(y)\n",
    "\n",
    "print(ages[ages>20])"
   ]
  },
  {
   "cell_type": "markdown",
   "id": "39418992",
   "metadata": {},
   "source": [
    "---\n",
    "# 4. 2-dimension array"
   ]
  },
  {
   "cell_type": "code",
   "execution_count": 16,
   "id": "9da2ef8e",
   "metadata": {},
   "outputs": [
    {
     "name": "stdout",
     "output_type": "stream",
     "text": [
      "[[1, 2, 3], [4, 5, 6], [7, 8, 9]]\n",
      "[[1 2 3]\n",
      " [4 5 6]\n",
      " [7 8 9]]\n",
      "3\n"
     ]
    }
   ],
   "source": [
    "y = [[1,2,3], [4,5,6], [7,8,9]]\n",
    "print(y)\n",
    "\n",
    "numpy_y = np.array(y)\n",
    "print(numpy_y)\n",
    "\n",
    "#2dim indexing\n",
    "print(numpy_y[0][2])"
   ]
  },
  {
   "cell_type": "markdown",
   "id": "80df96aa",
   "metadata": {},
   "source": [
    "---\n",
    "# 5. Functions\n",
    "\n",
    "- arange()\n",
    "- linspace()\n",
    "- reshape()\n"
   ]
  },
  {
   "cell_type": "code",
   "execution_count": 18,
   "id": "8e5cd260",
   "metadata": {},
   "outputs": [
    {
     "name": "stdout",
     "output_type": "stream",
     "text": [
      "[0 1 2 3 4]\n",
      "[5 6 7 8]\n",
      "[1 4 7]\n"
     ]
    }
   ],
   "source": [
    "#arange()\n",
    "\n",
    "arr1 = np.arange(5)\n",
    "print(arr1)\n",
    "\n",
    "arr2 = np.arange(5, 9)\n",
    "print(arr2)\n",
    "\n",
    "arr3 = np.arange(1, 10, 3)\n",
    "print(arr3)"
   ]
  },
  {
   "cell_type": "code",
   "execution_count": 24,
   "id": "7153c793",
   "metadata": {},
   "outputs": [
    {
     "name": "stdout",
     "output_type": "stream",
     "text": [
      "[ 0.          0.1010101   0.2020202   0.3030303   0.4040404   0.50505051\n",
      "  0.60606061  0.70707071  0.80808081  0.90909091  1.01010101  1.11111111\n",
      "  1.21212121  1.31313131  1.41414141  1.51515152  1.61616162  1.71717172\n",
      "  1.81818182  1.91919192  2.02020202  2.12121212  2.22222222  2.32323232\n",
      "  2.42424242  2.52525253  2.62626263  2.72727273  2.82828283  2.92929293\n",
      "  3.03030303  3.13131313  3.23232323  3.33333333  3.43434343  3.53535354\n",
      "  3.63636364  3.73737374  3.83838384  3.93939394  4.04040404  4.14141414\n",
      "  4.24242424  4.34343434  4.44444444  4.54545455  4.64646465  4.74747475\n",
      "  4.84848485  4.94949495  5.05050505  5.15151515  5.25252525  5.35353535\n",
      "  5.45454545  5.55555556  5.65656566  5.75757576  5.85858586  5.95959596\n",
      "  6.06060606  6.16161616  6.26262626  6.36363636  6.46464646  6.56565657\n",
      "  6.66666667  6.76767677  6.86868687  6.96969697  7.07070707  7.17171717\n",
      "  7.27272727  7.37373737  7.47474747  7.57575758  7.67676768  7.77777778\n",
      "  7.87878788  7.97979798  8.08080808  8.18181818  8.28282828  8.38383838\n",
      "  8.48484848  8.58585859  8.68686869  8.78787879  8.88888889  8.98989899\n",
      "  9.09090909  9.19191919  9.29292929  9.39393939  9.49494949  9.5959596\n",
      "  9.6969697   9.7979798   9.8989899  10.        ]\n",
      "[1.00000000e+00 3.59381366e+05 1.29154967e+11 4.64158883e+16\n",
      " 1.66810054e+22 5.99484250e+27 2.15443469e+33 7.74263683e+38\n",
      " 2.78255940e+44 1.00000000e+50]\n"
     ]
    }
   ],
   "source": [
    "#linspace()\n",
    "\n",
    "arr1 = np.linspace(0, 10, 100)\n",
    "print(arr1)\n",
    "\n",
    "arr2 = np.logspace(0, 50, 10)\n",
    "print(arr2)"
   ]
  },
  {
   "cell_type": "code",
   "execution_count": 27,
   "id": "0c8494fe",
   "metadata": {},
   "outputs": [
    {
     "name": "stdout",
     "output_type": "stream",
     "text": [
      "[ 0  1  2  3  4  5  6  7  8  9 10 11]\n",
      "[[ 0  1  2  3]\n",
      " [ 4  5  6  7]\n",
      " [ 8  9 10 11]]\n",
      "[[ 0  1]\n",
      " [ 2  3]\n",
      " [ 4  5]\n",
      " [ 6  7]\n",
      " [ 8  9]\n",
      " [10 11]]\n"
     ]
    }
   ],
   "source": [
    "#reshape()\n",
    "\n",
    "y = np.arange(12)\n",
    "print(y)\n",
    "\n",
    "print(y.reshape(3,4))\n",
    "\n",
    "print(y.reshape(6, -1))"
   ]
  },
  {
   "cell_type": "markdown",
   "id": "46aa35f7",
   "metadata": {},
   "source": [
    "---\n",
    "# 6. Random Number\n",
    "\n",
    "\n"
   ]
  },
  {
   "cell_type": "code",
   "execution_count": 29,
   "id": "dd550443",
   "metadata": {},
   "outputs": [
    {
     "name": "stdout",
     "output_type": "stream",
     "text": [
      "[0.54340494 0.27836939 0.42451759 0.84477613 0.00471886]\n",
      "[[0.12156912 0.67074908 0.82585276]\n",
      " [0.13670659 0.57509333 0.89132195]\n",
      " [0.20920212 0.18532822 0.10837689]\n",
      " [0.21969749 0.97862378 0.81168315]\n",
      " [0.17194101 0.81622475 0.27407375]]\n"
     ]
    }
   ],
   "source": [
    "#General\n",
    "\n",
    "np.random.seed(100)\n",
    "\n",
    "arr1 = np.random.rand(5)\n",
    "print(arr1)\n",
    "\n",
    "arr2 = np.random.rand(5, 3)\n",
    "print(arr2)"
   ]
  },
  {
   "cell_type": "code",
   "execution_count": 34,
   "id": "046667f8",
   "metadata": {},
   "outputs": [
    {
     "name": "stdout",
     "output_type": "stream",
     "text": [
      "[-0.24888867 -0.45017644  0.1324278   0.02221393  0.31736798]\n",
      "[[-0.75241418 -1.29639181  0.09513944 -0.4237151 ]\n",
      " [-1.18598356 -0.36546199 -1.27102304  1.58617094]\n",
      " [ 0.69339066 -1.95808123 -0.13480131 -1.54061602]\n",
      " [ 2.04671397 -1.39699934 -1.09717198 -0.23871287]\n",
      " [-1.4290669   0.94900478 -0.01939759  0.89459771]]\n",
      "[11.51938624  7.00455924  7.61222805 12.59252517 11.90455125]\n"
     ]
    }
   ],
   "source": [
    "#Normalized random value\n",
    "rand_arr = np.random.randn(5)\n",
    "print(rand_arr)\n",
    "\n",
    "#visulaize\n",
    "rand_arr2 = np.random.randn(5,4)\n",
    "print(rand_arr2)\n",
    "\n",
    "m = 10\n",
    "sigma = 2\n",
    "rand_arr3 = m + sigma*np.random.randn(5)\n",
    "print(rand_arr3)"
   ]
  },
  {
   "cell_type": "code",
   "execution_count": 36,
   "id": "fb6bcc49",
   "metadata": {},
   "outputs": [
    {
     "data": {
      "image/png": "[encoded data removed]",
      "text/plain": [
       "<Figure size 720x432 with 1 Axes>"
      ]
     },
     "metadata": {
      "needs_background": "light"
     },
     "output_type": "display_data"
    }
   ],
   "source": [
    "#visualize\n",
    "import matplotlib.pyplot as plt\n",
    "\n",
    "x1 = np.random.randn(10000)\n",
    "x2 = m + sigma*np.random.randn(10000)\n",
    "\n",
    "plt.figure(figsize=(10,6))\n",
    "plt.hist(x1, bins=20, alpha=0.4)\n",
    "plt.hist(x2, bins=20, alpha=0.4)\n",
    "plt.show()"
   ]
  },
  {
   "cell_type": "code",
   "execution_count": null,
   "id": "410bd3fb",
   "metadata": {},
   "outputs": [],
   "source": []
  }
 ],
 "metadata": {
  "kernelspec": {
   "display_name": "Python 3 (ipykernel)",
   "language": "python",
   "name": "python3"
  },
  "language_info": {
   "codemirror_mode": {
    "name": "ipython",
    "version": 3
   },
   "file_extension": ".py",
   "mimetype": "text/x-python",
   "name": "python",
   "nbconvert_exporter": "python",
   "pygments_lexer": "ipython3",
   "version": "3.9.6"
  }
 },
 "nbformat": 4,
 "nbformat_minor": 5
}
