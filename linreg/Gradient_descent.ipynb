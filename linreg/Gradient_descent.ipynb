{
 "cells": [
  {
   "cell_type": "code",
   "execution_count": 11,
   "id": "be909f70",
   "metadata": {},
   "outputs": [],
   "source": [
    "import numpy as np\n",
    "import matplotlib.pyplot as plt"
   ]
  },
  {
   "cell_type": "code",
   "execution_count": 12,
   "id": "5ece7df6",
   "metadata": {},
   "outputs": [],
   "source": [
    "X = np.array([0.0, 1.0, 2.0])\n",
    "y = np.array([3.0, 3.5, 5.5])\n",
    "\n",
    "W = 0\n",
    "b = 0\n",
    "\n",
    "lrate = 0.01\n",
    "epochs = 1000\n",
    "\n",
    "n = float(len(X))"
   ]
  },
  {
   "cell_type": "code",
   "execution_count": 16,
   "id": "fab33903",
   "metadata": {},
   "outputs": [],
   "source": [
    "for i in range(epochs): #gradient descent\n",
    "    y_pred = W*X + b    #prediction\n",
    "    dW = (2/n) * sum(X*(y_pred - y))\n",
    "    db = (2/n) * sum(y_pred - y)\n",
    "    W = W - lrate * dW\n",
    "    b = b - lrate * db"
   ]
  },
  {
   "cell_type": "code",
   "execution_count": 17,
   "id": "b6cca690",
   "metadata": {},
   "outputs": [
    {
     "name": "stdout",
     "output_type": "stream",
     "text": [
      "1.246228895235041 2.7552321283724477\n"
     ]
    }
   ],
   "source": [
    "print(W, b)"
   ]
  },
  {
   "cell_type": "code",
   "execution_count": 18,
   "id": "b9417bd8",
   "metadata": {},
   "outputs": [
    {
     "data": {
      "image/png": "[encoded data removed]",
      "text/plain": [
       "<Figure size 432x288 with 1 Axes>"
      ]
     },
     "metadata": {
      "needs_background": "light"
     },
     "output_type": "display_data"
    }
   ],
   "source": [
    "y_pred = W*X + b\n",
    "\n",
    "plt.scatter(X, y) \n",
    "\n",
    "plt.plot([min(X), max(X)], [min(y_pred), max(y_pred)], color='red')\n",
    "plt.show()"
   ]
  },
  {
   "cell_type": "code",
   "execution_count": null,
   "id": "351628b9",
   "metadata": {},
   "outputs": [],
   "source": []
  }
 ],
 "metadata": {
  "kernelspec": {
   "display_name": "Python 3 (ipykernel)",
   "language": "python",
   "name": "python3"
  },
  "language_info": {
   "codemirror_mode": {
    "name": "ipython",
    "version": 3
   },
   "file_extension": ".py",
   "mimetype": "text/x-python",
   "name": "python",
   "nbconvert_exporter": "python",
   "pygments_lexer": "ipython3",
   "version": "3.9.6"
  }
 },
 "nbformat": 4,
 "nbformat_minor": 5
}
